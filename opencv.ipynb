{
 "cells": [
  {
   "cell_type": "markdown",
   "id": "aa86d384-8c66-4e56-a2e5-296d301a3bb9",
   "metadata": {},
   "source": [
    "# 1. Images\n",
    "1. `cv2.imread(filename, flags)`\n",
    "    - `flags`\n",
    "        - `cv2.IMREAD_COLOR`\n",
    "        - `cv2.IMREAD_UNCHANGED`\n",
    "        - `cv2.IMREAD_GRAYSCALE`\n",
    "\n",
    "[OpenCV Samples](https://github.com/opencv/opencv/tree/master/samples/data)"
   ]
  },
  {
   "cell_type": "code",
   "execution_count": 10,
   "id": "13fd89bd-3968-4ff1-b2f4-b34e26c571a7",
   "metadata": {},
   "outputs": [
    {
     "name": "stderr",
     "output_type": "stream",
     "text": [
      "[ WARN:0@347.096] global samples.cpp:61 findFile cv::samples::findFile('starry_night.jpg') => '/home/yungshun317/workspace/py/torch-cv/data/starry_night.jpg'\n"
     ]
    }
   ],
   "source": [
    "import cv2\n",
    "import sys\n",
    "\n",
    "cv2.samples.addSamplesDataSearchPath(\"/home/yungshun317/workspace/py/torch-cv/data/\")\n",
    "img = cv2.imread(cv2.samples.findFile(\"starry_night.jpg\"), cv2.IMREAD_UNCHANGED)\n",
    " \n",
    "if img is None:\n",
    "    sys.exit(\"Could not read the image.\")\n",
    " \n",
    "cv2.imshow(\"Display window\", img)\n",
    "k = cv2.waitKey(0)\n",
    " \n",
    "if k == ord(\"s\"):\n",
    "    cv2.imwrite(\"starry_night.png\", img)\n",
    "\n",
    "cv2.destroyAllWindows()"
   ]
  },
  {
   "cell_type": "markdown",
   "id": "955b391f-932a-4da7-8d55-b6057b2c997e",
   "metadata": {},
   "source": [
    "# 2. Draw"
   ]
  },
  {
   "cell_type": "code",
   "execution_count": 3,
   "id": "bd1d494f-8e6d-4497-afb5-33b60bfa9d90",
   "metadata": {},
   "outputs": [
    {
     "data": {
      "text/plain": [
       "True"
      ]
     },
     "execution_count": 3,
     "metadata": {},
     "output_type": "execute_result"
    }
   ],
   "source": [
    "import numpy as np\n",
    "import cv2 as cv\n",
    " \n",
    "# Create a black image\n",
    "img = np.zeros((512,512,3), np.uint8)\n",
    " \n",
    "# Draw a diagonal blue line with thickness of 5 px\n",
    "cv.line(img,(0,0),(511,511),(255,0,0),5)\n",
    "\n",
    "cv.imwrite(\"line.png\", img)"
   ]
  },
  {
   "cell_type": "code",
   "execution_count": null,
   "id": "d12e5421-de22-423c-a288-066e3cd8122b",
   "metadata": {},
   "outputs": [],
   "source": []
  },
  {
   "cell_type": "markdown",
   "id": "07f6a284-d962-4e39-a4d3-5d39a91f34c3",
   "metadata": {},
   "source": [
    "# 10. Videos\n",
    "## 10-1. Capture Video from Camera\n",
    "1. `cv2.VideoCapture()`"
   ]
  },
  {
   "cell_type": "code",
   "execution_count": 5,
   "id": "f425e55d-08fc-448e-b033-dce74143cce6",
   "metadata": {},
   "outputs": [],
   "source": [
    "# Camera\n",
    "import numpy as np\n",
    "import cv2 as cv\n",
    " \n",
    "cap = cv.VideoCapture(0)\n",
    "if not cap.isOpened():\n",
    "    print(\"Cannot open camera\")\n",
    "    exit()\n",
    "while True:\n",
    "    # Capture frame-by-frame\n",
    "    ret, frame = cap.read()\n",
    " \n",
    "    # if frame is read correctly ret is True\n",
    "    if not ret:\n",
    "        print(\"Can't receive frame (stream end?). Exiting ...\")\n",
    "        break\n",
    "    # Our operations on the frame come here\n",
    "    gray = cv.cvtColor(frame, cv.COLOR_BGR2GRAY)\n",
    "    # Display the resulting frame\n",
    "    cv.imshow('frame', gray)\n",
    "    if cv.waitKey(1) == ord('q'):\n",
    "        break\n",
    " \n",
    "# When everything done, release the capture\n",
    "cap.release()\n",
    "cv.destroyAllWindows()"
   ]
  },
  {
   "cell_type": "markdown",
   "id": "ce182e2f-64d3-4570-b8a9-521e43147c19",
   "metadata": {},
   "source": [
    "## 10-2. Play Video from File"
   ]
  },
  {
   "cell_type": "code",
   "execution_count": 8,
   "id": "1b6701da-0406-45f8-8f0b-0222f3b8f97a",
   "metadata": {},
   "outputs": [],
   "source": [
    "# File\n",
    "import numpy as np\n",
    "import cv2 as cv\n",
    " \n",
    "cap = cv.VideoCapture('data/vtest.avi')\n",
    " \n",
    "while cap.isOpened():\n",
    "    ret, frame = cap.read()\n",
    " \n",
    "    # if frame is read correctly ret is True\n",
    "    if not ret:\n",
    "        print(\"Can't receive frame (stream end?). Exiting ...\")\n",
    "        break\n",
    "    gray = cv.cvtColor(frame, cv.COLOR_BGR2GRAY)\n",
    " \n",
    "    cv.imshow('frame', gray)\n",
    "    if cv.waitKey(1) == ord('q'):\n",
    "        break\n",
    " \n",
    "cap.release()\n",
    "cv.destroyAllWindows()"
   ]
  },
  {
   "cell_type": "markdown",
   "id": "36bfdf18-b818-4609-aa09-c9db9309fe5c",
   "metadata": {},
   "source": [
    "## 10-3. Save a Video"
   ]
  },
  {
   "cell_type": "code",
   "execution_count": 9,
   "id": "afc1d63a-6103-4ef4-af23-ae9459bd1e1c",
   "metadata": {},
   "outputs": [],
   "source": [
    "# Save\n",
    "import numpy as np\n",
    "import cv2 as cv\n",
    " \n",
    "cap = cv.VideoCapture(0)\n",
    " \n",
    "# Define the codec and create VideoWriter object\n",
    "fourcc = cv.VideoWriter_fourcc(*'XVID')\n",
    "out = cv.VideoWriter('output.avi', fourcc, 20.0, (640,  480))\n",
    " \n",
    "while cap.isOpened():\n",
    "    ret, frame = cap.read()\n",
    "    if not ret:\n",
    "        print(\"Can't receive frame (stream end?). Exiting ...\")\n",
    "        break\n",
    "    frame = cv.flip(frame, 0)\n",
    " \n",
    "    # write the flipped frame\n",
    "    out.write(frame)\n",
    " \n",
    "    cv.imshow('frame', frame)\n",
    "    if cv.waitKey(1) == ord('q'):\n",
    "        break\n",
    " \n",
    "# Release everything if job is finished\n",
    "cap.release()\n",
    "out.release()\n",
    "cv.destroyAllWindows()"
   ]
  },
  {
   "cell_type": "code",
   "execution_count": null,
   "id": "c5a19189-95d7-4662-83de-8f030d092ce9",
   "metadata": {},
   "outputs": [],
   "source": [
    "q"
   ]
  }
 ],
 "metadata": {
  "kernelspec": {
   "display_name": "Python 3 (ipykernel)",
   "language": "python",
   "name": "python3"
  },
  "language_info": {
   "codemirror_mode": {
    "name": "ipython",
    "version": 3
   },
   "file_extension": ".py",
   "mimetype": "text/x-python",
   "name": "python",
   "nbconvert_exporter": "python",
   "pygments_lexer": "ipython3",
   "version": "3.12.3"
  }
 },
 "nbformat": 4,
 "nbformat_minor": 5
}
