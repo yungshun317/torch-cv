{
 "cells": [
  {
   "cell_type": "markdown",
   "id": "589ea2c2-67e5-4314-a703-c8eef946791f",
   "metadata": {},
   "source": [
    "- [Swin Transformer: Hierarchical Vision Transformer using Shifted Windows](https://arxiv.org/abs/2103.14030)\n",
    "\n",
    "ControlNet:\n",
    "- [Adding Conditional Control to Text-to-Image Diffusion Models](https://arxiv.org/abs/2302.05543)\n",
    "\n",
    "Union ControlNet:\n",
    "- [UniControl: A Unified Diffusion Model for Controllable Visual Generation In the Wild](https://arxiv.org/abs/2305.11147)\n",
    "- [Uni-ControlNet: All-in-One Control to Text-to-Image Diffusion Models](https://arxiv.org/abs/2305.16322)\n",
    "- [Composer: Creative and Controllable Image Synthesis with Composable Conditions](https://arxiv.org/abs/2302.09778)\n",
    "\n",
    "ControlNet types of conditioning:\n",
    "- [InstantID: Zero-shot Identity-Preserving Generation in Seconds](https://arxiv.org/abs/2401.07519)\n",
    "- [InstructPix2Pix: Learning to Follow Image Editing Instructions](https://arxiv.org/abs/2211.09800)\n",
    "- [SparseCtrl: Adding Sparse Controls to Text-to-Video Diffusion Models](https://arxiv.org/abs/2311.16933)\n",
    "- [AnimateDiff: Animate Your Personalized Text-to-Image Diffusion Models without Specific Tuning](https://arxiv.org/abs/2307.04725)\n",
    "\n",
    "Super resolution:\n",
    "- [Dual Aggregation Transformer for Image Super-Resolution](https://arxiv.org/abs/2308.03364)\n",
    "- [SwinIR: Image Restoration Using Swin Transformer](https://arxiv.org/abs/2108.10257)\n",
    "- [ESRGAN: Enhanced Super-Resolution Generative Adversarial Networks](https://arxiv.org/abs/1809.00219)\n",
    "- [Real-ESRGAN: Training Real-World Blind Super-Resolution with Pure Synthetic Data](https://arxiv.org/abs/2107.10833)\n",
    "- [Practical Blind Image Denoising via Swin-Conv-UNet and Data Synthesis](https://link.springer.com/article/10.1007/s11633-023-1466-0)"
   ]
  },
  {
   "cell_type": "code",
   "execution_count": null,
   "id": "7a3a6f33-3a39-4614-88a7-a652d2c6292c",
   "metadata": {},
   "outputs": [],
   "source": [
    "# ControlNet m2m Script"
   ]
  },
  {
   "cell_type": "code",
   "execution_count": 29,
   "id": "f2d70742-f74d-4b2f-87ad-80f4c1c03151",
   "metadata": {},
   "outputs": [
    {
     "name": "stdout",
     "output_type": "stream",
     "text": [
      "674\n"
     ]
    }
   ],
   "source": [
    "import os\n",
    "\n",
    "# frame_folder_path = \"data/controlnet_m2m_random/\"\n",
    "frame_folder_path = \"data/controlnet_m2m_seed/\"\n",
    "frames = os.listdir(frame_folder_path)\n",
    "num_frames = len(frames)\n",
    "print(num_frames)"
   ]
  },
  {
   "cell_type": "code",
   "execution_count": 30,
   "id": "d99b4974-21e0-4693-bfd5-2b3db7159a7b",
   "metadata": {},
   "outputs": [
    {
     "name": "stdout",
     "output_type": "stream",
     "text": [
      "['00085-751154458.png', '00086-941976540.png', '00087-2179025524.png', '00088-3222040068.png', '00089-2299730592.png', '00090-1042762830.png', '00091-1024901358.png', '00092-121863383.png', '00093-1082836000.png', '00094-1407876225.png']\n"
     ]
    }
   ],
   "source": [
    "# Sort by name\n",
    "sorted_frames = sorted(frames)\n",
    "print(sorted_frames[:10])"
   ]
  },
  {
   "cell_type": "code",
   "execution_count": 31,
   "id": "e5a94004-be04-4e85-b789-09de4dff0b13",
   "metadata": {},
   "outputs": [
    {
     "name": "stdout",
     "output_type": "stream",
     "text": [
      "(960, 536, 3)\n"
     ]
    }
   ],
   "source": [
    "# Get frame size\n",
    "image = cv2.imread(frame_folder_path + sorted_frames[0]) \n",
    "print(image.shape)\n",
    "\n",
    "width = image.shape[1]\n",
    "height = image.shape[0]"
   ]
  },
  {
   "cell_type": "code",
   "execution_count": 32,
   "id": "2c4b54f5-b3f8-4e59-bb5c-81bf5e8b35c1",
   "metadata": {},
   "outputs": [],
   "source": [
    "import cv2\n",
    "import numpy as np\n",
    "\n",
    "# Choose codec according to format needed\n",
    "fourcc = cv2.VideoWriter_fourcc(*'mp4v')\n",
    "fps = 30\n",
    "\n",
    "# video = cv2.VideoWriter('outputs/controlnet_m2m_random.avi', fourcc, fps, (width, height))\n",
    "video = cv2.VideoWriter('outputs/controlnet_m2m_seed.avi', fourcc, fps, (width, height))\n",
    "\n",
    "for idx in range(0, num_frames):\n",
    "    frame = cv2.imread(frame_folder_path + sorted_frames[idx])\n",
    "    video.write(frame)\n",
    "\n",
    "cv2.destroyAllWindows()\n",
    "video.release()"
   ]
  },
  {
   "cell_type": "code",
   "execution_count": null,
   "id": "0200872c-5cde-4bbe-b0fb-6a236ed94155",
   "metadata": {},
   "outputs": [],
   "source": [
    "# ControlNet img2img"
   ]
  },
  {
   "cell_type": "code",
   "execution_count": 11,
   "id": "b2688222-3340-45d6-9cd0-96fec2c10e07",
   "metadata": {},
   "outputs": [
    {
     "name": "stdout",
     "output_type": "stream",
     "text": [
      "ffmpeg version 6.1.1-3ubuntu5 Copyright (c) 2000-2023 the FFmpeg developers\n",
      "  built with gcc 13 (Ubuntu 13.2.0-23ubuntu3)\n",
      "  configuration: --prefix=/usr --extra-version=3ubuntu5 --toolchain=hardened --libdir=/usr/lib/x86_64-linux-gnu --incdir=/usr/include/x86_64-linux-gnu --arch=amd64 --enable-gpl --disable-stripping --disable-omx --enable-gnutls --enable-libaom --enable-libass --enable-libbs2b --enable-libcaca --enable-libcdio --enable-libcodec2 --enable-libdav1d --enable-libflite --enable-libfontconfig --enable-libfreetype --enable-libfribidi --enable-libglslang --enable-libgme --enable-libgsm --enable-libharfbuzz --enable-libmp3lame --enable-libmysofa --enable-libopenjpeg --enable-libopenmpt --enable-libopus --enable-librubberband --enable-libshine --enable-libsnappy --enable-libsoxr --enable-libspeex --enable-libtheora --enable-libtwolame --enable-libvidstab --enable-libvorbis --enable-libvpx --enable-libwebp --enable-libx265 --enable-libxml2 --enable-libxvid --enable-libzimg --enable-openal --enable-opencl --enable-opengl --disable-sndio --enable-libvpl --disable-libmfx --enable-libdc1394 --enable-libdrm --enable-libiec61883 --enable-chromaprint --enable-frei0r --enable-ladspa --enable-libbluray --enable-libjack --enable-libpulse --enable-librabbitmq --enable-librist --enable-libsrt --enable-libssh --enable-libsvtav1 --enable-libx264 --enable-libzmq --enable-libzvbi --enable-lv2 --enable-sdl2 --enable-libplacebo --enable-librav1e --enable-pocketsphinx --enable-librsvg --enable-libjxl --enable-shared\n",
      "  libavutil      58. 29.100 / 58. 29.100\n",
      "  libavcodec     60. 31.102 / 60. 31.102\n",
      "  libavformat    60. 16.100 / 60. 16.100\n",
      "  libavdevice    60.  3.100 / 60.  3.100\n",
      "  libavfilter     9. 12.100 /  9. 12.100\n",
      "  libswscale      7.  5.100 /  7.  5.100\n",
      "  libswresample   4. 12.100 /  4. 12.100\n",
      "  libpostproc    57.  3.100 / 57.  3.100\n",
      "Input #0, mov,mp4,m4a,3gp,3g2,mj2, from 'data/[BV1SJ411M7Uf_p2].mp4':\n",
      "  Metadata:\n",
      "    major_brand     : isom\n",
      "    minor_version   : 512\n",
      "    compatible_brands: isomiso2mp41\n",
      "    encoder         : Lavf60.16.100\n",
      "    description     : Packed by Bilibili XCoder v2.0.2\n",
      "  Duration: 00:01:26.89, start: 0.000000, bitrate: 712 kb/s\n",
      "  Stream #0:0[0x1](und): Video: hevc (Main) (hev1 / 0x31766568), yuv420p(tv, bt709), 480x852, 385 kb/s, 30 fps, 30 tbr, 16k tbn (default)\n",
      "    Metadata:\n",
      "      handler_name    : VideoHandler\n",
      "      vendor_id       : [0][0][0][0]\n",
      "  Stream #0:1[0x2](und): Audio: aac (LC) (mp4a / 0x6134706D), 48000 Hz, stereo, fltp, 317 kb/s (default)\n",
      "    Metadata:\n",
      "      handler_name    : SoundHandler\n",
      "      vendor_id       : [0][0][0][0]\n",
      "Stream mapping:\n",
      "  Stream #0:0 -> #0:0 (hevc (native) -> png (native))\n",
      "Press [q] to stop, [?] for help\n",
      "Output #0, image2, to 'outputs/controlnet_img2img/%05d.png':\n",
      "  Metadata:\n",
      "    major_brand     : isom\n",
      "    minor_version   : 512\n",
      "    compatible_brands: isomiso2mp41\n",
      "    description     : Packed by Bilibili XCoder v2.0.2\n",
      "    encoder         : Lavf60.16.100\n",
      "  Stream #0:0(und): Video: png, rgb24(pc, gbr/bt709/bt709, progressive), 480x852, q=2-31, 200 kb/s, 30 fps, 30 tbn (default)\n",
      "    Metadata:\n",
      "      handler_name    : VideoHandler\n",
      "      vendor_id       : [0][0][0][0]\n",
      "      encoder         : Lavc60.31.102 png\n",
      "\u001b[1;35m[out#0/image2 @ 0x58a06a45cc00] \u001b[0mvideo:1539854kB audio:0kB subtitle:0kB other streams:0kB global headers:0kB muxing overhead: unknown\n",
      "frame= 2604 fps=882 q=-0.0 Lsize=N/A time=00:01:26.76 bitrate=N/A speed=29.4x    \n"
     ]
    }
   ],
   "source": [
    "!ffmpeg -i data/[BV1SJ411M7Uf_p2].mp4 -r 30 outputs/controlnet_img2img_inputs/%05d.png"
   ]
  },
  {
   "cell_type": "code",
   "execution_count": 2,
   "id": "6e0c5515-8220-4cc2-a948-8746404f82dd",
   "metadata": {},
   "outputs": [],
   "source": [
    "import os, cv2\n",
    "import numpy as np\n",
    "\n",
    "# frame_folder_path = \"data/controlnet_m2m_random/\"\n",
    "frame_folder_path = \"outputs/controlnet_img2img_outputs/\"\n",
    "frames = os.listdir(frame_folder_path)\n",
    "num_frames = len(frames)\n",
    "\n",
    "sorted_frames = sorted(frames)\n",
    "\n",
    "image = cv2.imread(frame_folder_path + sorted_frames[0])\n",
    "width = image.shape[1]\n",
    "height = image.shape[0]\n",
    "\n",
    "# Choose codec according to format needed\n",
    "fourcc = cv2.VideoWriter_fourcc(*'mp4v')\n",
    "fps = 30\n",
    "\n",
    "video = cv2.VideoWriter('outputs/controlnet_img2img_6.avi', fourcc, fps, (width, height))\n",
    "\n",
    "for idx in range(0, num_frames):\n",
    "    frame = cv2.imread(frame_folder_path + sorted_frames[idx])\n",
    "    video.write(frame)\n",
    "\n",
    "cv2.destroyAllWindows()\n",
    "video.release()"
   ]
  },
  {
   "cell_type": "code",
   "execution_count": null,
   "id": "5e6e9836-9b11-49a2-b25b-1de10c4fe555",
   "metadata": {},
   "outputs": [],
   "source": []
  }
 ],
 "metadata": {
  "kernelspec": {
   "display_name": "Python 3 (ipykernel)",
   "language": "python",
   "name": "python3"
  },
  "language_info": {
   "codemirror_mode": {
    "name": "ipython",
    "version": 3
   },
   "file_extension": ".py",
   "mimetype": "text/x-python",
   "name": "python",
   "nbconvert_exporter": "python",
   "pygments_lexer": "ipython3",
   "version": "3.12.3"
  }
 },
 "nbformat": 4,
 "nbformat_minor": 5
}
