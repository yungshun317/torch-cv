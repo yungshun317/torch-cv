{
 "cells": [
  {
   "cell_type": "code",
   "execution_count": 11,
   "id": "f2d70742-f74d-4b2f-87ad-80f4c1c03151",
   "metadata": {},
   "outputs": [
    {
     "name": "stdout",
     "output_type": "stream",
     "text": [
      "674\n"
     ]
    }
   ],
   "source": [
    "import os\n",
    "\n",
    "frame_folder_path = \"data/controlnet_m2m_random/\"\n",
    "frames = os.listdir(frame_folder_path)\n",
    "num_frames = len(frames)\n",
    "print(num_frames)"
   ]
  },
  {
   "cell_type": "code",
   "execution_count": 12,
   "id": "d99b4974-21e0-4693-bfd5-2b3db7159a7b",
   "metadata": {},
   "outputs": [
    {
     "name": "stdout",
     "output_type": "stream",
     "text": [
      "['00085-751154458.png', '00086-941976540.png', '00087-2179025524.png', '00088-3222040068.png', '00089-2299730592.png', '00090-1042762830.png', '00091-1024901358.png', '00092-121863383.png', '00093-1082836000.png', '00094-1407876225.png']\n"
     ]
    }
   ],
   "source": [
    "# Sort by name\n",
    "sorted_frames = sorted(frames)\n",
    "print(sorted_frames[:10])"
   ]
  },
  {
   "cell_type": "code",
   "execution_count": 14,
   "id": "2c4b54f5-b3f8-4e59-bb5c-81bf5e8b35c1",
   "metadata": {},
   "outputs": [],
   "source": [
    "import cv2\n",
    "import numpy as np\n",
    "\n",
    "# Choose codec according to format needed\n",
    "fourcc = cv2.VideoWriter_fourcc(*'mp4v')\n",
    "fps = 30\n",
    "width = 536\n",
    "height = 960\n",
    "video = cv2.VideoWriter('outputs/controlnet_m2m_random.avi', fourcc, fps, (width, height))\n",
    "\n",
    "for idx in range(0, num_frames):\n",
    "    image = cv2.imread(frame_folder_path + sorted_frames[idx])\n",
    "    video.write(image)\n",
    "\n",
    "cv2.destroyAllWindows()\n",
    "video.release()"
   ]
  },
  {
   "cell_type": "code",
   "execution_count": null,
   "id": "6cf8b2bb-728b-4a7a-8409-f90b09e02d99",
   "metadata": {},
   "outputs": [],
   "source": []
  }
 ],
 "metadata": {
  "kernelspec": {
   "display_name": "Python 3 (ipykernel)",
   "language": "python",
   "name": "python3"
  },
  "language_info": {
   "codemirror_mode": {
    "name": "ipython",
    "version": 3
   },
   "file_extension": ".py",
   "mimetype": "text/x-python",
   "name": "python",
   "nbconvert_exporter": "python",
   "pygments_lexer": "ipython3",
   "version": "3.12.3"
  }
 },
 "nbformat": 4,
 "nbformat_minor": 5
}
